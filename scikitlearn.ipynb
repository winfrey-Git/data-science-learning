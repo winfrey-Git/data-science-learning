{
 "cells": [
  {
   "cell_type": "code",
   "execution_count": 1,
   "id": "2772c2f7-7dcb-4d1c-b103-f99b8485914c",
   "metadata": {},
   "outputs": [],
   "source": [
    "#loading data\n",
    "from sklearn.datasets import load_iris\n",
    "data = load_iris()\n",
    "x,y = data.data, data.target"
   ]
  },
  {
   "cell_type": "code",
   "execution_count": null,
   "id": "80fe884a-6797-474b-adc5-51e457707977",
   "metadata": {},
   "outputs": [],
   "source": [
    "#preprocessing data\n",
    "from sklearn.preprocessing import standaScaler \n",
    "from "
   ]
  }
 ],
 "metadata": {
  "kernelspec": {
   "display_name": "Python 3 (ipykernel)",
   "language": "python",
   "name": "python3"
  },
  "language_info": {
   "codemirror_mode": {
    "name": "ipython",
    "version": 3
   },
   "file_extension": ".py",
   "mimetype": "text/x-python",
   "name": "python",
   "nbconvert_exporter": "python",
   "pygments_lexer": "ipython3",
   "version": "3.11.5"
  }
 },
 "nbformat": 4,
 "nbformat_minor": 5
}
